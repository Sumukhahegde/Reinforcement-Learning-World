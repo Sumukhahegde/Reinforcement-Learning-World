{
 "cells": [
  {
   "cell_type": "markdown",
   "metadata": {
    "id": "nD3tvHQZMant"
   },
   "source": [
    "Copyright 2020 Abhishek Dabas\n",
    "\n",
    "Permission is hereby granted, free of charge, to any person obtaining a copy of this software and associated documentation files (the \"Software\"), to deal in the Software without restriction, including without limitation the rights to use, copy, modify, merge, publish, distribute, sublicense, and/or sell copies of the Software, and to permit persons to whom the Software is furnished to do so, subject to the following conditions:\n",
    "\n",
    "The above copyright notice and this permission notice shall be included in all copies or substantial portions of the Software.\n",
    "\n",
    "THE SOFTWARE IS PROVIDED \"AS IS\", WITHOUT WARRANTY OF ANY KIND, EXPRESS OR IMPLIED, INCLUDING BUT NOT LIMITED TO THE WARRANTIES OF MERCHANTABILITY, FITNESS FOR A PARTICULAR PURPOSE AND NONINFRINGEMENT. IN NO EVENT SHALL THE AUTHORS OR COPYRIGHT HOLDERS BE LIABLE FOR ANY CLAIM, DAMAGES OR OTHER LIABILITY, WHETHER IN AN ACTION OF CO"
   ]
  },
  {
   "cell_type": "markdown",
   "metadata": {
    "id": "IGX8KY7WMqs5"
   },
   "source": [
    "# Abstract \n",
    "In this notebook we will see the implementation of **Qlearning** starting from build a q table to why,and how to implement a deep q learning to a Open AI Gym environment"
   ]
  },
  {
   "cell_type": "markdown",
   "metadata": {
    "id": "fULpYMuBBJ4D"
   },
   "source": [
    "## Dicount Factor\n",
    "The discount Factor $\\gamma$ ranges from (0,1). It tells us how much discount is to be applied for the future. It gets multiplied with every **reward**, and so we dont get the full reward. If at time step, t=1, we get a reward of +100, but the dicount factor, $\\gamma = 0.9$, then actual reward would be R= 0.9*100 = 90. \\\n",
    "The bigger the gamma, the smaller the discount, and the more we are focused on the long term reard. In similar way, the shorter the gamma, the bigger the discount, and the more we are focused on short term rewards. \n",
    "> Note: It is difficult to choose the perfect discount rate. Too low of it, will lead out agent to put itself in long term difficulty, because of immediate small rewards. If we keep it too high, it will be difficult for our algorithm to converge because so much of future needs are to be taken into account."
   ]
  },
  {
   "cell_type": "markdown",
   "metadata": {
    "id": "E0K50ZOdhH8D"
   },
   "source": [
    "## Value Iteration:\n",
    "We assign a value, V(s) to a state, s which can be used to determine the optimal policies. "
   ]
  },
  {
   "cell_type": "markdown",
   "metadata": {
    "id": "9c6t_FXnKwEx"
   },
   "source": [
    "# Exploration and exploitation Tradeoff\n",
    "Exploration means the agent acts randomly, and exploitation means it uses its Q-values to choose what it believes to be the optimal action. Rather than trying to find new and better opportunities, you settle with the best one you’ve found in your past experiences and maximize your utility from there"
   ]
  },
  {
   "cell_type": "code",
   "execution_count": null,
   "metadata": {
    "id": "I_ce9kYO_8Hy"
   },
   "outputs": [],
   "source": [
    "# E-Greedy \n",
    "\n",
    "def epsilon_greedy(probabilities,epsilon):\n",
    "    random_number = np.random.rand()\n",
    "      if random_number < epsilon:\n",
    "        max_value = probabilities.shape[0]\n",
    "        return np.random.randint(0,max_value)\n",
    "      else:\n",
    "        return np.argmax(probabilities)"
   ]
  },
  {
   "cell_type": "markdown",
   "metadata": {
    "id": "AkZugcATUwRj"
   },
   "source": [
    "# Q-Learning\n",
    "**What’s this ‘Q’?** The ‘Q’ in Q-learning stands for ``Quality``. Quality here represents how useful a given action is in gaining some future reward.\\\n",
    "- Q-learning is an off policy reinforcement learning algorithm that seeks to find the best action to take, given the current state. It’s considered off-policy because the q-learning function learns from actions that are outside the current policy, like taking random actions, and therefore a policy isn’t needed. More specifically, Q-learning seeks to learn a policy that maximizes the total reward.\n",
    "- The function Q(s,a) gives the discounted total value of taking an action, **a** in a state, **s**. It is esentially the reward for taking an action, in a state, in addition to the discounted value of the states where we would end up in. \n",
    "$$Q(s,a) = r + \\gamma* max_a(Q(s',a'))$$\n",
    "In case of Non-Deterministic environment, where we end up in a different state each time we take an action, a in state s. In such case we take an *average* of the equation.\n",
    "> Note: Knowing this optimal Q function gives us the optimal policy.\n",
    "ex. $$\\pi= argmax_a(Q(s,a)$$\n",
    "here, $\\pi$ is the policy at state s\n",
    "\n"
   ]
  },
  {
   "cell_type": "code",
   "execution_count": 14,
   "metadata": {},
   "outputs": [],
   "source": [
    "# Imports \n",
    "\n",
    "import gym\n",
    "import numpy as np\n",
    "import random\n",
    "random.seed(0)\n",
    "np.random.seed(0)"
   ]
  },
  {
   "cell_type": "code",
   "execution_count": 40,
   "metadata": {},
   "outputs": [],
   "source": [
    "# Hypteparameters\n",
    "\n",
    "num_episodes = 4000\n",
    "discount_factor = 0.99 # gamma\n",
    "learning_rate = 0.8\n",
    "\n",
    "env = gym.make('FrozenLake-v0') "
   ]
  },
  {
   "cell_type": "code",
   "execution_count": 28,
   "metadata": {},
   "outputs": [],
   "source": [
    "report = '100-ep Average: %.2f . Best 100-ep Average: %.2f . Average: %.2f ' \\\n",
    "         '(Episode %d)'\n",
    "\n",
    "def evaluation_report(rewards, episode):\n",
    "    \"\"\"Print rewards report for current episode\n",
    "    - Average for last 100 episodes\n",
    "    - Best 100-episode average across all time\n",
    "    - Average for all episodes across time\n",
    "    \"\"\"\n",
    "    print(report % (\n",
    "        np.mean(rewards[-100:]),\n",
    "        max([np.mean(rewards[i:i+100]) for i in range(len(rewards) - 100)]),\n",
    "        np.mean(rewards),\n",
    "        episode))\n"
   ]
  },
  {
   "cell_type": "markdown",
   "metadata": {},
   "source": [
    "- ``env.render`` : start the bot using this \n",
    "- The ``Step`` function returns 4 values:\n",
    "1. Observation_n : observation of the environment\n",
    "1. reward_n : If the action was beneficial or not (+1/-1)\n",
    "1. done_n : This indicates the game is over or not (yes/no)\n",
    "1. Info : Additional information such as performance and latency for debugging purposes"
   ]
  },
  {
   "cell_type": "code",
   "execution_count": 42,
   "metadata": {},
   "outputs": [
    {
     "name": "stdout",
     "output_type": "stream",
     "text": [
      "100-ep Average: 0.00 . Best 100-ep Average: 0.03 . Average: 0.01 (Episode 500)\n",
      "100-ep Average: 0.01 . Best 100-ep Average: 0.06 . Average: 0.01 (Episode 1000)\n",
      "100-ep Average: 0.01 . Best 100-ep Average: 0.06 . Average: 0.01 (Episode 1500)\n",
      "100-ep Average: 0.00 . Best 100-ep Average: 0.06 . Average: 0.01 (Episode 2000)\n",
      "100-ep Average: 0.00 . Best 100-ep Average: 0.06 . Average: 0.01 (Episode 2500)\n",
      "100-ep Average: 0.02 . Best 100-ep Average: 0.06 . Average: 0.01 (Episode 3000)\n",
      "100-ep Average: 0.02 . Best 100-ep Average: 0.06 . Average: 0.01 (Episode 3500)\n",
      "100-ep Average: 0.02 . Best 100-ep Average: 0.06 . Average: 0.01 (Episode 4000)\n"
     ]
    }
   ],
   "source": [
    "# create a Q table \n",
    "Q = np.zeros((env.observation_space.n, env.action_space.n))\n",
    "rewards= []\n",
    "report_interval= 500\n",
    "\n",
    "for episode in range(1,num_episodes+1):\n",
    "\n",
    "    #store the initial state\n",
    "    state = env.reset()\n",
    "    episode_reward = 0\n",
    "\n",
    "    ## run infinitely\n",
    "    \n",
    "    while True:\n",
    "\n",
    "        ## the noise is helpful for the agent to learn and explore the environment on its own and not depend on the environemnt\n",
    "        ## Noise, or meaningless, random data, is sometimes introduced when training deep neural networks because it can improve both the performance and the accuracy of the mode\n",
    "        ## the higher the noise, the less the values in noise\n",
    "        noise = np.random.random((1,env.action_space.n))/(episode**2)\n",
    "        action = np.argmax(Q[state,:] + noise)\n",
    "\n",
    "        action = env.action_space.sample()\n",
    "\n",
    "        # to update the  Q function we need current and next state\n",
    "        next_state, reward,done, _ = env.step(action)\n",
    "\n",
    "        # q-table update\n",
    "        learned_value = reward + discount_factor * np.max(Q[next_state,:])\n",
    "        old_value = Q[state, action]\n",
    "\n",
    "        new_value = (1- learning_rate) * old_value + learning_rate * learned_value\n",
    "        Q[state,action] = new_value\n",
    "\n",
    "        episode_reward += reward\n",
    "        state = next_state\n",
    "\n",
    "        if done:\n",
    "            rewards.append(episode_reward)\n",
    "            \n",
    "            if episode % report_interval == 0:\n",
    "                evaluation_report(rewards, episode)\n",
    "            \n",
    "            break"
   ]
  },
  {
   "cell_type": "markdown",
   "metadata": {},
   "source": [
    "According to the Gym FrozenLake page, “solving” the game means attaining a 100-episode average of 0.78. Informally, “solving” means “plays the game very well”. While not in record time, the Q-table agent is able to solve FrozenLake in 4000 episodes."
   ]
  },
  {
   "cell_type": "markdown",
   "metadata": {},
   "source": [
    "## E-Greedy\n",
    "we will create an environment that will update this q-table as the agent explored th environment over thousands of time steps\n"
   ]
  },
  {
   "cell_type": "code",
   "execution_count": 49,
   "metadata": {},
   "outputs": [],
   "source": [
    "# Hypteparameters\n",
    "discount_factor = 0.99 # gamma\n",
    "learning_rate = 0.15  # alpha\n",
    "epsilon = 0.2 # epsilon greedy\n",
    "\n",
    "num_episodes = 10000\n",
    "rewards= []\n",
    "\n",
    "# environment\n",
    "env = gym.make('FrozenLake-v0') "
   ]
  },
  {
   "cell_type": "code",
   "execution_count": 50,
   "metadata": {},
   "outputs": [
    {
     "name": "stdout",
     "output_type": "stream",
     "text": [
      "100-ep Average: 0.02 . Best 100-ep Average: 0.04 . Average: 0.02 (Episode 500)\n",
      "100-ep Average: 0.02 . Best 100-ep Average: 0.04 . Average: 0.02 (Episode 1000)\n",
      "100-ep Average: 0.03 . Best 100-ep Average: 0.06 . Average: 0.02 (Episode 1500)\n",
      "100-ep Average: 0.02 . Best 100-ep Average: 0.06 . Average: 0.02 (Episode 2000)\n",
      "100-ep Average: 0.02 . Best 100-ep Average: 0.06 . Average: 0.02 (Episode 2500)\n",
      "100-ep Average: 0.04 . Best 100-ep Average: 0.06 . Average: 0.02 (Episode 3000)\n",
      "100-ep Average: 0.03 . Best 100-ep Average: 0.06 . Average: 0.02 (Episode 3500)\n",
      "100-ep Average: 0.03 . Best 100-ep Average: 0.06 . Average: 0.02 (Episode 4000)\n",
      "100-ep Average: 0.02 . Best 100-ep Average: 0.06 . Average: 0.02 (Episode 4500)\n",
      "100-ep Average: 0.02 . Best 100-ep Average: 0.06 . Average: 0.02 (Episode 5000)\n",
      "100-ep Average: 0.00 . Best 100-ep Average: 0.08 . Average: 0.02 (Episode 5500)\n",
      "100-ep Average: 0.04 . Best 100-ep Average: 0.08 . Average: 0.03 (Episode 6000)\n",
      "100-ep Average: 0.02 . Best 100-ep Average: 0.08 . Average: 0.03 (Episode 6500)\n",
      "100-ep Average: 0.02 . Best 100-ep Average: 0.08 . Average: 0.03 (Episode 7000)\n",
      "100-ep Average: 0.06 . Best 100-ep Average: 0.08 . Average: 0.03 (Episode 7500)\n",
      "100-ep Average: 0.00 . Best 100-ep Average: 0.08 . Average: 0.03 (Episode 8000)\n",
      "100-ep Average: 0.02 . Best 100-ep Average: 0.08 . Average: 0.03 (Episode 8500)\n",
      "100-ep Average: 0.01 . Best 100-ep Average: 0.08 . Average: 0.03 (Episode 9000)\n",
      "100-ep Average: 0.02 . Best 100-ep Average: 0.08 . Average: 0.03 (Episode 9500)\n",
      "training finished\n"
     ]
    }
   ],
   "source": [
    "import random\n",
    "from IPython.display import clear_output\n",
    "\n",
    "rewards_2=[]\n",
    "report_interval=500\n",
    "\n",
    "# Q-table\n",
    "Q = np.zeros([env.observation_space.n, env.action_space.n])\n",
    "\n",
    "for episode in range(1,num_episodes):\n",
    "    state= env.reset()\n",
    "\n",
    "    done=False\n",
    "    episode_reward = 0\n",
    "    \n",
    "    while not done:\n",
    "\n",
    "        # epsilon greedy\n",
    "        if random.uniform(0,1) > epsilon:\n",
    "            # explore\n",
    "            action = env.action_space.sample()\n",
    "        else:\n",
    "            # exploit \n",
    "            action = np.argmax(Q[state])\n",
    "\n",
    "        # to update the  Q function we need current and next state\n",
    "        next_state, reward,done, _ = env.step(action)\n",
    "\n",
    "        # Q-Table\n",
    "        learned_value = reward + discount_factor * np.max(Q[next_state,:])\n",
    "        old_value = Q[state, action]\n",
    "\n",
    "        new_value = (1- learning_rate) * old_value + learning_rate * learned_value\n",
    "        Q[state,action] = new_value\n",
    "\n",
    "        episode_reward += reward\n",
    "        state = next_state\n",
    "\n",
    "        if done:\n",
    "            print(episode_reward)\n",
    "            rewards_2.append(episode_reward)\n",
    "            if episode % report_interval == 0:\n",
    "                evaluation_report(rewards_2, episode)\n",
    "            break\n",
    "\n",
    "print(\"training finished\")"
   ]
  },
  {
   "cell_type": "code",
   "execution_count": 51,
   "metadata": {},
   "outputs": [
    {
     "data": {
      "text/plain": [
       "array([[0.57975221, 0.5556057 , 0.55691366, 0.5616018 ],\n",
       "       [0.38836888, 0.35933167, 0.38740491, 0.53999019],\n",
       "       [0.45602463, 0.47016816, 0.44208405, 0.5032424 ],\n",
       "       [0.40277793, 0.38311776, 0.28715552, 0.48390379],\n",
       "       [0.58557275, 0.43893868, 0.43753297, 0.35788475],\n",
       "       [0.        , 0.        , 0.        , 0.        ],\n",
       "       [0.43002988, 0.13132104, 0.27239844, 0.10070234],\n",
       "       [0.        , 0.        , 0.        , 0.        ],\n",
       "       [0.46513057, 0.42824311, 0.38199882, 0.61797044],\n",
       "       [0.45218045, 0.65717745, 0.51798822, 0.30927679],\n",
       "       [0.54843465, 0.65730658, 0.52887253, 0.35821777],\n",
       "       [0.        , 0.        , 0.        , 0.        ],\n",
       "       [0.        , 0.        , 0.        , 0.        ],\n",
       "       [0.55283098, 0.49317685, 0.75661592, 0.62320627],\n",
       "       [0.73390385, 0.88905037, 0.80956157, 0.83083266],\n",
       "       [0.        , 0.        , 0.        , 0.        ]])"
      ]
     },
     "execution_count": 51,
     "metadata": {},
     "output_type": "execute_result"
    }
   ],
   "source": [
    "Q"
   ]
  },
  {
   "cell_type": "code",
   "execution_count": 52,
   "metadata": {},
   "outputs": [
    {
     "data": {
      "text/plain": [
       "array([0.45218045, 0.65717745, 0.51798822, 0.30927679])"
      ]
     },
     "execution_count": 52,
     "metadata": {},
     "output_type": "execute_result"
    }
   ],
   "source": [
    "Q[9]"
   ]
  },
  {
   "cell_type": "markdown",
   "metadata": {},
   "source": [
    "+ The Q-table has been established over 10000 number of episodes"
   ]
  },
  {
   "cell_type": "code",
   "execution_count": 53,
   "metadata": {},
   "outputs": [
    {
     "data": {
      "text/plain": [
       "array([0.40277793, 0.38311776, 0.28715552, 0.48390379])"
      ]
     },
     "execution_count": 53,
     "metadata": {},
     "output_type": "execute_result"
    }
   ],
   "source": [
    "Q[3]"
   ]
  },
  {
   "cell_type": "markdown",
   "metadata": {},
   "source": [
    "> Max q-value here is \"0.25\", which means it takes action F at this point form the list of actions: Safe (S), Frozen (F), Hole (H) and Goal (G)"
   ]
  },
  {
   "cell_type": "code",
   "execution_count": 72,
   "metadata": {},
   "outputs": [
    {
     "name": "stdout",
     "output_type": "stream",
     "text": [
      "100-ep Average: 0.65 . Best 100-ep Average: 0.70 . Average: 0.64 (Episode 500)\n",
      "100-ep Average: 0.64 . Best 100-ep Average: 0.70 . Average: 0.62 (Episode 1000)\n",
      "100-ep Average: 0.57 . Best 100-ep Average: 0.72 . Average: 0.62 (Episode 1500)\n",
      "100-ep Average: 0.65 . Best 100-ep Average: 0.72 . Average: 0.62 (Episode 2000)\n",
      "100-ep Average: 0.55 . Best 100-ep Average: 0.72 . Average: 0.62 (Episode 2500)\n",
      "100-ep Average: 0.64 . Best 100-ep Average: 0.72 . Average: 0.62 (Episode 3000)\n",
      "100-ep Average: 0.55 . Best 100-ep Average: 0.72 . Average: 0.61 (Episode 3500)\n",
      "100-ep Average: 0.62 . Best 100-ep Average: 0.72 . Average: 0.61 (Episode 4000)\n",
      "100-ep Average: 0.61 . Best 100-ep Average: 0.73 . Average: 0.61 (Episode 4500)\n",
      "100-ep Average: 0.65 . Best 100-ep Average: 0.73 . Average: 0.61 (Episode 5000)\n",
      "100-ep Average: 0.66 . Best 100-ep Average: 0.73 . Average: 0.61 (Episode 5500)\n",
      "100-ep Average: 0.57 . Best 100-ep Average: 0.73 . Average: 0.61 (Episode 6000)\n",
      "100-ep Average: 0.58 . Best 100-ep Average: 0.74 . Average: 0.61 (Episode 6500)\n",
      "100-ep Average: 0.53 . Best 100-ep Average: 0.74 . Average: 0.61 (Episode 7000)\n",
      "100-ep Average: 0.66 . Best 100-ep Average: 0.74 . Average: 0.61 (Episode 7500)\n",
      "100-ep Average: 0.57 . Best 100-ep Average: 0.74 . Average: 0.61 (Episode 8000)\n",
      "100-ep Average: 0.65 . Best 100-ep Average: 0.74 . Average: 0.61 (Episode 8500)\n",
      "100-ep Average: 0.66 . Best 100-ep Average: 0.74 . Average: 0.61 (Episode 9000)\n",
      "100-ep Average: 0.59 . Best 100-ep Average: 0.74 . Average: 0.60 (Episode 9500)\n"
     ]
    }
   ],
   "source": [
    "# evaluate the q-table built\n",
    "\n",
    "report_interval= 500\n",
    "num_episodes = 10000\n",
    "total_penalties = 0\n",
    "total_epochs = 0\n",
    "rewards_3 = []\n",
    "\n",
    "for episode in range(1,num_episodes):\n",
    "    state = env.reset()\n",
    "    done = False\n",
    "    reward,penalties,epochs = 0,0,0\n",
    "    episode_reward = 0\n",
    "    \n",
    "    while not done:\n",
    "        action = np.argmax(Q[state])\n",
    "        state,reward, done, info = env.step(action)\n",
    "        episode_reward += reward\n",
    "        \n",
    "        if done:\n",
    "\n",
    "            rewards_3.append(episode_reward)\n",
    "\n",
    "            if episode % report_interval == 0:\n",
    "                evaluation_report(rewards_3, episode)\n",
    "      \n",
    "\n",
    "    ##   epochs += 1\n",
    "    \n",
    "#     total_epochs += epochs\n",
    "#     total_penalties += penalties\n",
    "\n",
    "# print(\"Total epochs:\",total_epochs,\"and total penalties:\",total_penalties)"
   ]
  },
  {
   "cell_type": "markdown",
   "metadata": {},
   "source": [
    "### Result of the above:\n",
    "As we just saw, the progress in the agents performance increases from random sampling to training the model for a number of timesteps and then using the same Q table for taking actions in the environment. We get a good accuracy after training the model for ``1000`` time steps and then using that trained q table to take smart actions"
   ]
  },
  {
   "cell_type": "markdown",
   "metadata": {
    "id": "BuexiouV4vLQ"
   },
   "source": [
    "### Limitations of Q-learning\n",
    "Q-Learning solves the issue over the full set of states, but struggles within situations when the count of the observable set of states is very large. Example: ``Atari games``can have a large variety of different screens, and we observe there are so many different states to track and approximate for. In some states the count for the observable states could be almost infinite."
   ]
  },
  {
   "cell_type": "markdown",
   "metadata": {
    "id": "7e8a5uJPyj9-"
   },
   "source": [
    "# Deep Reinforcement Learning\n",
    "The reason why Reinforcement Learning is widely used and interests alot of people is mainly because of **Deep Reinforcement Learning**. It is a ``Model Free`` algorithm. Combining RL + Deep Neural Networks.\\\"\n",
    "Neural Networks are really good function approximators, $\\hat{Q}_\\theta$ with certain weights. We want the neural networks to learn these parameters, via interaction with the environment such that $\\hat{Q}_\\theta (s) \\approx Q^*(s,\\cdot)$. An important thing to note here is, that this function approximator can provide estimates for all states s, even those that it has never seen before. If this function  approximator by the neural network is a good approximator, then it will be able to generalize the unseen states in the environment. \n",
    "- Our goal here is to connect a reinforcement learning algorithm to a deep neural network which operates directly on RGB images and efficiently process training data by using stochastic gradient updates."
   ]
  },
  {
   "cell_type": "markdown",
   "metadata": {
    "id": "IoDJ3xneO4cb"
   },
   "source": [
    "The model is a concolutional Neural Network, trained on a variant of Q-Learning, whose inputs are raw pixel data, and the output is value function estimating the future rewards. Here we will use convolutional neural networks that can learn optimal policies from raw video data in complex RL Environment. Stochastic gradient descent is used to update the weights. \n",
    "> Note : In RL environment, we encounter highly correlated states. The resolve this problem we use **experience replay mechanism** which randomly samples from previous transitions, and thus smooths the training distribution over many sample behaviours.\n",
    "> Note : The network will not be provided with any game specific information or features. It learns from only the visual inputs."
   ]
  },
  {
   "cell_type": "markdown",
   "metadata": {
    "id": "h9Kk-axkQShB"
   },
   "source": [
    "With Atari Games and **DQN** the input is the image of the current state in the game. Just one image is not enough for us to understand the situation and take an action. Instead we break the Markov decision process and take a set of previous images to understand the speed, acceleration of the ball and the paddle. We can use 4 frames to decide the action. 2 frames are required for the speed, and 3 frames are required for the acceleration. \n",
    "> **Note**: The number of states are much larger than the actions in Atari games. Also, dealind with large state space is easier to play around, rather than a large action space.\n",
    "- Atari Games usually have a discount rate of 0.99"
   ]
  },
  {
   "cell_type": "markdown",
   "metadata": {
    "id": "9_wBzHz090FA"
   },
   "source": [
    "### Why do we need discount Factor\n",
    "The fact that the discount rate is bounded to be smaller than 1 is a mathematical trick to make an infinite sum finite. This helps proving the convergence of certain algorithms.\n",
    "- Example: if we have an option to choose a reward of $100 now or after 10 years, which one would we choose?....The one closer to today is better right."
   ]
  },
  {
   "cell_type": "markdown",
   "metadata": {
    "id": "7KKTYs23w25q"
   },
   "source": [
    "**The network** revolved around continuous learning, meaning that we don’t simply accrue a bunch of trial/training data and feed it into the model. Instead, we create training data through the trials we run and feed this information into it directly after running the trial. "
   ]
  },
  {
   "cell_type": "markdown",
   "metadata": {
    "id": "IuyZSxg8xYaZ"
   },
   "source": [
    "### Why trial and error is important\n",
    "In this environment in particular, if we were moving down the right side of the slope, training on the most recent trials would entail training on the data where you were moving up the hill towards the right. But, this would not be at all relevant to determining what actions to take in the scenario you would soon be facing of scaling up the left hill. So, by taking a random sample, we don’t bias our training set, and instead ideally learn about scaling all environments we would encounter equally wel"
   ]
  },
  {
   "cell_type": "markdown",
   "metadata": {},
   "source": [
    "+ The environment - **Cartpole enviornment:**`` A pole is attached by an un-actuated joint to a cart, which moves along a frictionless track. The system is controlled by applying a force of +1 or -1 to the cart. The pendulum starts upright, and the goal is to prevent it from falling over. A reward of +1 is provided for every timestep that the pole remains upright. The episode ends when the pole is more than 15 degrees from vertical, or the cart moves more than 2.4 units from the center.``"
   ]
  },
  {
   "cell_type": "markdown",
   "metadata": {
    "id": "YLfbc6yAJfbK"
   },
   "source": [
    "### DQN Implementation"
   ]
  },
  {
   "cell_type": "code",
   "execution_count": 2,
   "metadata": {
    "id": "HqGX76yWJfph"
   },
   "outputs": [],
   "source": [
    "import torch\n",
    "import math\n",
    "import numpy as np\n",
    "import matplotlib.pyplot as plt\n",
    "from collections import  namedtuple\n",
    "from itertools import count\n",
    "from PIL import Image\n",
    "import torch\n",
    "import torch.nn as nn\n",
    "import torch.optim as optim\n",
    "import torch.nn.functional as F\n",
    "import torchvision.transforms as T\n",
    "import gym"
   ]
  },
  {
   "cell_type": "code",
   "execution_count": 3,
   "metadata": {
    "id": "i5K7svNJJfvm"
   },
   "outputs": [],
   "source": [
    "class DQN(nn.Module):\n",
    "    def __init__(self,img_height, img_width):\n",
    "        super().__init__()\n",
    "\n",
    "        self.fc1 = nn.Linear(in_features= img_height*img_width*3, out_features=24)\n",
    "        self.fc2 = nn.Linear(in_features = 24, out_features=32)\n",
    "        self.fc3 = nn.Linear(in_features = 32, out_features=48)\n",
    "        self.fc4 = nn.Linear(in_features = 48, out_features=32)\n",
    "        self.out = nn.Linear(in_features=32, out_features=2)\n",
    "\n",
    "    def forward(self,t):\n",
    "        t= t.flatten(start_dim=1)\n",
    "        t = F.relu(self.fc1(t))\n",
    "        t = F.relu(self.fc2(t))\n",
    "        t = F.relu(self.fc3(t))\n",
    "        t = F.relu(self.fc4(t))\n",
    "        t=self.out(t)\n",
    "        return t\n",
    "\n",
    "\n",
    "# Experience class\n",
    "Experience = namedtuple('Experience',('state','actions','next_state', 'reward'))"
   ]
  },
  {
   "cell_type": "code",
   "execution_count": 4,
   "metadata": {
    "colab": {
     "base_uri": "https://localhost:8080/"
    },
    "id": "6mEVTGKFKpGw",
    "outputId": "f4622397-a220-4dfd-832e-a112d8fafd63"
   },
   "outputs": [
    {
     "data": {
      "text/plain": [
       "Experience(state=2, actions=3, next_state=4, reward=5)"
      ]
     },
     "execution_count": 4,
     "metadata": {},
     "output_type": "execute_result"
    }
   ],
   "source": [
    "e = Experience(2,3,4,5)\n",
    "e"
   ]
  },
  {
   "cell_type": "code",
   "execution_count": 5,
   "metadata": {
    "id": "5X1KTXffKpMp"
   },
   "outputs": [],
   "source": [
    "class ReplayMemory():\n",
    "  \n",
    "    def __init__(self,capacity):\n",
    "        self.capacity = capacity\n",
    "        self.memory = []\n",
    "        self.push_count = 0\n",
    "\n",
    "    def push(self,experience):\n",
    "        if len(self.memory) < self.capacity:\n",
    "            self.memory.append(experience)\n",
    "        else:\n",
    "            self.memory[self.push_count %self.capacity] = experience\n",
    "        self.push_count +=1\n",
    "\n",
    "    def sample(self, batch_size):\n",
    "        return random.sample(Self.memory,batch_size)\n",
    "\n",
    "    def can_provide_sample(self, batch_size):\n",
    "        return(self.memory) >= batch_size"
   ]
  },
  {
   "cell_type": "code",
   "execution_count": 6,
   "metadata": {
    "id": "t-iFtBAiQb1R"
   },
   "outputs": [],
   "source": [
    "# Epsilon greedy\n",
    "\n",
    "class EpsilonGreedyStrategy():\n",
    "    def __init__(self,start,end,decay):\n",
    "        self.start = start\n",
    "        self.end = end\n",
    "        self.decay = decay\n",
    "    def get_Exploration_rate(rate, current_step):\n",
    "        return self.end +(self.start - self.end) * math.exp(-1*current_step*self.decay)"
   ]
  },
  {
   "cell_type": "code",
   "execution_count": 7,
   "metadata": {
    "id": "RVYnjL-CQb52"
   },
   "outputs": [],
   "source": [
    "# Agent\n",
    "class Agent():\n",
    "  \n",
    "    def __init__ (self,strategy, num_actions):\n",
    "        self.current_step = 0\n",
    "        self.strategy = strategy\n",
    "        self.num_actions = num_actions\n",
    "\n",
    "    def select_Action(self,state,policy_net):\n",
    "        rate = strategy.get_Exploration_rate(self.current_step)\n",
    "        self.current_step += 1\n",
    "\n",
    "        if rate > random.random():\n",
    "            return random.randrange(self.num_actions) # explore\n",
    "        else:\n",
    "            with torch.no_grad():\n",
    "            return policy_net(state).argmax(dim=1).item()  # exploit"
   ]
  },
  {
   "cell_type": "code",
   "execution_count": 8,
   "metadata": {
    "id": "5bI0pDW6ZW9t"
   },
   "outputs": [],
   "source": [
    "class CartPoleEnvManager():\n",
    "\n",
    "    def __init__(self):\n",
    "\n",
    "     ## calling unwrapped gives acess to the behind the scenes dynamics of the environment that we can access \n",
    "        self.env= gym.make(\"CartPole-v0\").unwrapped \n",
    "        self.env.reset()\n",
    "        self.current_Screen = None\n",
    "        self.done=False\n",
    "\n",
    "    def reset(self):\n",
    "        self.env.reset()\n",
    "        self.env.current_Screen = None\n",
    "\n",
    "    def close(self):\n",
    "        self.env.close()\n",
    "    \n",
    "    def render(self, mode='human'):\n",
    "        return self.env.render(mode)\n",
    "\n",
    "    def num_actions_available(self):\n",
    "        return self.env.action_space.n\n",
    "    \n",
    "    def take_action(self,action):\n",
    "        _,reward,self.done,_ = self.env.step(action.item())\n",
    "        return torch.tensor([reward])\n",
    "\n",
    "    def just_starting(self):\n",
    "        return self.current_Screen is None\n",
    "\n",
    "    def get_state(self):\n",
    "        if self.just_starting() or self.done:\n",
    "            self.current_Screen = self.get_processed_screen()\n",
    "            black_screen = torch.zeros_like(self.current_Screen)\n",
    "            return black_screen\n",
    "        else:\n",
    "            s1 = self.current_Screen\n",
    "            s2 = self.get_processed_screen()\n",
    "            self.current_Screen = s2\n",
    "            return s2 - s1\n",
    "\n",
    "    def get_screen_height(self):\n",
    "        screen = self.get_processed_screen()\n",
    "        return screen.shape[2]\n",
    "\n",
    "    def get_screen_width(self):\n",
    "        screen = self.get_processed_screen()\n",
    "        return screen.shape[3]\n",
    "\n",
    "    def get_processed_screen(self):\n",
    "        screen = self.render('rgb_array').transpose((2, 0, 1)) # PyTorch expects CHW\n",
    "        screen = self.crop_screen(screen)\n",
    "        return self.transform_screen_data(screen)\n",
    "\n",
    "    def crop_screen(self, screen):\n",
    "        screen_height = screen.shape[1]\n",
    "\n",
    "        # Strip off top and bottom\n",
    "        top = int(screen_height * 0.4)\n",
    "        bottom = int(screen_height * 0.8)\n",
    "        screen = screen[:, top:bottom, :]\n",
    "        return screen\n",
    "\n",
    "    def transform_screen_data(self, screen):       \n",
    "        # Convert to float, rescale, convert to tensor\n",
    "        screen = np.ascontiguousarray(screen, dtype=np.float32) / 255\n",
    "        screen = torch.from_numpy(screen)\n",
    "\n",
    "        # Use torchvision package to compose image transforms\n",
    "        resize = T.Compose([\n",
    "            T.ToPILImage()\n",
    "            ,T.Resize((40,90))\n",
    "            ,T.ToTensor()\n",
    "        ])\n",
    "\n",
    "        return resize(screen).unsqueeze(0)"
   ]
  },
  {
   "cell_type": "code",
   "execution_count": 9,
   "metadata": {
    "colab": {
     "base_uri": "https://localhost:8080/",
     "height": 374
    },
    "id": "regZan17ZXCw",
    "outputId": "ca1603b9-d1e2-4f23-e06e-047645f439c5",
    "scrolled": true
   },
   "outputs": [
    {
     "data": {
      "image/png": "[encoded data removed]",
      "text/plain": [
       "<Figure size 432x288 with 1 Axes>"
      ]
     },
     "metadata": {
      "needs_background": "light"
     },
     "output_type": "display_data"
    }
   ],
   "source": [
    "em = CartPoleEnvManager()\n",
    "em.reset()\n",
    "screen = em.render('rgb_array')\n",
    "\n",
    "plt.figure()\n",
    "plt.imshow(screen)\n",
    "plt.title('Non-processed screen example')\n",
    "plt.show()"
   ]
  },
  {
   "cell_type": "code",
   "execution_count": 10,
   "metadata": {},
   "outputs": [
    {
     "data": {
      "image/png": "[encoded data removed]",
      "text/plain": [
       "<Figure size 432x288 with 1 Axes>"
      ]
     },
     "metadata": {
      "needs_background": "light"
     },
     "output_type": "display_data"
    }
   ],
   "source": [
    "screen = em.get_processed_screen()\n",
    "\n",
    "plt.figure()\n",
    "plt.imshow(screen.squeeze(0).permute(1, 2, 0).cpu(), interpolation='none')\n",
    "plt.title('Processed screen example')\n",
    "plt.show()"
   ]
  },
  {
   "cell_type": "code",
   "execution_count": 11,
   "metadata": {},
   "outputs": [
    {
     "data": {
      "image/png": "[encoded data removed]",
      "text/plain": [
       "<Figure size 432x288 with 1 Axes>"
      ]
     },
     "metadata": {
      "needs_background": "light"
     },
     "output_type": "display_data"
    }
   ],
   "source": [
    "screen = em.get_state()\n",
    "\n",
    "plt.figure()\n",
    "plt.imshow(screen.squeeze(0).permute(1, 2, 0).cpu(), interpolation='none')\n",
    "plt.title('Starting state example')\n",
    "plt.show()"
   ]
  },
  {
   "cell_type": "code",
   "execution_count": 12,
   "metadata": {},
   "outputs": [
    {
     "name": "stderr",
     "output_type": "stream",
     "text": [
      "Clipping input data to the valid range for imshow with RGB data ([0..1] for floats or [0..255] for integers).\n"
     ]
    },
    {
     "data": {
      "image/png": "[encoded data removed]",
      "text/plain": [
       "<Figure size 432x288 with 1 Axes>"
      ]
     },
     "metadata": {
      "needs_background": "light"
     },
     "output_type": "display_data"
    }
   ],
   "source": [
    "for i in range(5):\n",
    "    em.take_action(torch.tensor([1]))\n",
    "screen = em.get_state()\n",
    "\n",
    "plt.figure()\n",
    "plt.imshow(screen.squeeze(0).permute(1, 2, 0).cpu(), interpolation='none')\n",
    "plt.title('Non starting state example')\n",
    "plt.show()"
   ]
  },
  {
   "cell_type": "markdown",
   "metadata": {},
   "source": [
    "### Plotting"
   ]
  },
  {
   "cell_type": "code",
   "execution_count": 13,
   "metadata": {
    "id": "XcZWbsEGZXFz"
   },
   "outputs": [],
   "source": [
    "def plot(values, moving_avg_period):\n",
    "    plt.figure(2)\n",
    "    plt.clf()        \n",
    "    plt.title('Training...')\n",
    "    plt.xlabel('Episode')\n",
    "    plt.ylabel('Duration')\n",
    "    plt.plot(values)\n",
    "\n",
    "    moving_avg = get_moving_average(moving_avg_period, values)\n",
    "    plt.plot(moving_avg)    \n",
    "    plt.pause(0.001)\n",
    "    print(\"Episode\", len(values), \"\\n\", \\\n",
    "        moving_avg_period, \"episode moving avg:\", moving_avg[-1])\n",
    "#     if is_ipython: display.clear_output(wait=True)\n",
    "\n",
    "\n",
    "def get_moving_average(period, values):\n",
    "    values = torch.tensor(values, dtype=torch.float)\n",
    "    if len(values) >= period:\n",
    "        moving_avg = values.unfold(dimension=0, size=period, step=1) \\\n",
    "            .mean(dim=1).flatten(start_dim=0)\n",
    "        moving_avg = torch.cat((torch.zeros(period-1), moving_avg))\n",
    "        return moving_avg.numpy()\n",
    "    else:\n",
    "        moving_avg = torch.zeros(len(values))\n",
    "        return moving_avg.numpy()\n"
   ]
  },
  {
   "cell_type": "code",
   "execution_count": 14,
   "metadata": {
    "id": "Z0II6N9XZXAq"
   },
   "outputs": [
    {
     "data": {
      "image/png": "[encoded data removed]",
      "text/plain": [
       "<Figure size 432x288 with 1 Axes>"
      ]
     },
     "metadata": {
      "needs_background": "light"
     },
     "output_type": "display_data"
    },
    {
     "name": "stdout",
     "output_type": "stream",
     "text": [
      "Episode 300 \n",
      " 100 episode moving avg: 0.5169226\n"
     ]
    }
   ],
   "source": [
    "plot(np.random.rand(300), 100)"
   ]
  },
  {
   "cell_type": "markdown",
   "metadata": {
    "id": "AxEoS8QsqEsS"
   },
   "source": [
    "## Experience Replay\n",
    "In DQN algorithm, a buffer of past experiences is used to stabalize the training by decorrelating the training examples with each batch used toupdate the neural network. This buffer records the last states, rewards, next state observed.\n",
    "It stores the agents experiences at each time-step, pooled over many episodes. The replay memory stores only Last N experience tuples, and samples uniformly at random from D when performing updates. This approach is in some respects limited since the memory buffer does not differentiate important transitions and always overwrites with recent transitions due to the finite memory size N. the uniform sampling gives equal importance to all transitions in the replay memory.\n",
    "> **Reason** : the experience replay is important because successive states are highly correlated/similar (strong correlation bw samples). This means that there is a significant risk that the network will completely forget about what it’s like to be in state it hasn’t seen in a while. Replaying experience prevents this by still showing old frames to the network. Randomizing the samples breaks these correlations and reduces the variance in the updates. \n",
    "> Note: when learning by experience replay, it is necessary to learn off-policy\n",
    "(because our current parameters are different to those used to generate the sample), which motivates the choice of Q-learning. \n",
    "> Note: experience replay requires a lot of memory.\n",
    "\n",
    "- Implementation: We run an inner loop within the RL algorithm which randomly selects a minibatch from the samples of experiences stored"
   ]
  },
  {
   "cell_type": "markdown",
   "metadata": {
    "id": "Bn4vawYpoeRa"
   },
   "source": [
    "### Pseudo code for Deep-Q-Learning with experience Replay\n",
    "- Initialize replay memory *D* to capacity *N*\n",
    "- Initialize action-value function *Q* with random weights\n",
    "- for episode = 1,M *do*\n",
    "    * Initialize sequence $s_1 = {(x_1)}$ and preprocessed sequenced $\\phi_1 = \\phi(s1)$ \n",
    "    * for t=1,T *do*\n",
    "      * With probability $\\epsilon$ select a random action $a_t$\n",
    "      * otherwise select $a_t = max_a*Q(\\phi(s_t),a;\\theta)$\n",
    "      * execute action $a_t$ in the emulator and observe reward $r_t$ and image $x_{t+1}$\n",
    "      * Set $S_{t+1} = s_t, a_t,x_{t+1}$ and process $\\phi_{t+1} = \\phi(s_{t+1})$\n",
    "      * Store transition $(\\phi_t, a_t,r_t,\\phi_{t+1})$ in D\n",
    "      * Sample random minibatch of transitions $(\\phi_t, a_t,r_t,\\phi_{t+1})$ from D\n",
    "      * Set $y_j = {r_j for\\:terminal\\: \\phi_{j+1}} \\:\\:OR\\:\\: {r_J + \\gamma*max_a*Q(\\phi_{j+1},a;\\theta)}$ for non-terminal $\\phi_{j+1}$\n",
    "      * Perform gradient descent step on $(y_j - Q(\\phi_j,a_j;\\theta))^2$\n",
    "      end for\n",
    "end for\n"
   ]
  },
  {
   "cell_type": "markdown",
   "metadata": {
    "id": "mf3Ry0sl_LUs"
   },
   "source": [
    "> The pre-processed sequenced function :  here means that when we are using the atari gym environment, we reduce the pixel size of image, convert to grayscale etc.\n",
    "> Terminal and Non Terminal state: If we are in the last stae, and there are no rewards coming in, then it is the last reward we get, whereas if we are not in the last state and we have more rewards coming in then we are definetly looking ahead at more rewards.\n",
    "> Loss function: $(y_j - Q(\\phi_j,a_j;\\theta))^2$\n",
    "this formula basically subtracts the labelled output and the Q(S,a). It takes the squared difference of the same to train the neural network. So here, we have the `replay buffer` and we have already played the game, and we have a reward for the particular action, in that particular state. ``Q-function`` tells us the reward from the current action in the current state, in addition to the sum of rewards till the end of the game. $r_t + \\sum_{t+1}^T r_t$"
   ]
  },
  {
   "cell_type": "markdown",
   "metadata": {
    "id": "6O9RUiajyRV5"
   },
   "source": [
    "## Exploration\n",
    "We dont want out model to learn the actions randomly as mentioned before, instead we want it to take the optimal actions. When our network is learning we do not want it to perform randomly. \n",
    "- We should sometimes choose the actions randomly and sometimes choose the best actions according to the policy. And this is how we should learn the complexities about the different states\n",
    "\n",
    "### E-Greedy method:\n",
    "We define a probability E and with which we choose random actions, otherwise we choose the best/optimal actions with maximum Q-value for that state\n",
    "- It is common to start with a high ε and to reduce its value as your DQN goes through more iterations. This process is sometimes called “annealing”.Annealing linearly simply means that the value of ε is reduced by a fixed amount at each iteration."
   ]
  },
  {
   "cell_type": "markdown",
   "metadata": {
    "id": "2Y9HOYtZODwW"
   },
   "source": [
    "# Resources:\n",
    "1. [Playing Atari with Deep Reinforcement Learning](https://www.cs.toronto.edu/~vmnih/docs/dqn.pdf)\n",
    "2. [Video explainattion of the paper](https://www.youtube.com/watch?v=rFwQDDbYTm4&ab_channel=YannicKilcher)\n",
    "1. [Stable_baselines](https://araffin.github.io/slides/rl-tuto-jnrr19/#/4)\n",
    "1. [Frame Skipping and Pre-Processing for Deep Q-Networks on Atari 2600 Games](https://danieltakeshi.github.io/2016/11/25/frame-skipping-and-preprocessing-for-deep-q-networks-on-atari-2600-games/)\n",
    "1. [Q and DQN learning](https://www.digitalocean.com/community/tutorials/how-to-build-atari-bot-with-openai-gym)"
   ]
  }
 ],
 "metadata": {
  "colab": {
   "name": "Reinforcement Learning.ipynb",
   "provenance": [],
   "toc_visible": true
  },
  "kernelspec": {
   "display_name": "Python 3",
   "language": "python",
   "name": "python3"
  },
  "language_info": {
   "codemirror_mode": {
    "name": "ipython",
    "version": 3
   },
   "file_extension": ".py",
   "mimetype": "text/x-python",
   "name": "python",
   "nbconvert_exporter": "python",
   "pygments_lexer": "ipython3",
   "version": "3.7.4"
  }
 },
 "nbformat": 4,
 "nbformat_minor": 1
}
